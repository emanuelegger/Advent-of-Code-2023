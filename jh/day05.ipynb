{
 "cells": [
  {
   "cell_type": "code",
   "execution_count": 18,
   "metadata": {},
   "outputs": [
    {
     "data": {
      "text/plain": [
       "dict_items([('seed-to-soil', [<__main__.MapEntry object at 0x000001F97E108EB0>, <__main__.MapEntry object at 0x000001F97E111CD0>]), ('soil-to-fertilizer', [<__main__.MapEntry object at 0x000001F97F168100>, <__main__.MapEntry object at 0x000001F97DF78BE0>, <__main__.MapEntry object at 0x000001F97DF78DC0>]), ('fertilizer-to-water', [<__main__.MapEntry object at 0x000001F97DF78E20>, <__main__.MapEntry object at 0x000001F97DF78FD0>, <__main__.MapEntry object at 0x000001F97DF78610>, <__main__.MapEntry object at 0x000001F97DF78790>]), ('water-to-light', [<__main__.MapEntry object at 0x000001F97DF78C10>, <__main__.MapEntry object at 0x000001F97F93F9D0>]), ('light-to-temperature', [<__main__.MapEntry object at 0x000001F97F93F970>, <__main__.MapEntry object at 0x000001F97F93FAF0>, <__main__.MapEntry object at 0x000001F97F93FA00>]), ('temperature-to-humidity', [<__main__.MapEntry object at 0x000001F97F93F100>, <__main__.MapEntry object at 0x000001F97F93FA60>]), ('humidity-to-location', [<__main__.MapEntry object at 0x000001F97F93FF40>, <__main__.MapEntry object at 0x000001F97F93F550>])])"
      ]
     },
     "execution_count": 18,
     "metadata": {},
     "output_type": "execute_result"
    }
   ],
   "source": [
    "seeds = []\n",
    "\n",
    "\n",
    "class MapEntry:\n",
    "    def __init__(self, source_range_start, destination_range_start, range_length):\n",
    "        self.source_range_start = source_range_start\n",
    "        self.destination_range_start = destination_range_start\n",
    "        self.range_length = range_length\n",
    "        self.source_range = range(source_range_start, source_range_start + range_length)\n",
    "        self.destination_range = range(destination_range_start, destination_range_start + range_length)\n",
    "\n",
    "    def in_range(self, seed_number):\n",
    "        return seed_number in self.source_range\n",
    "    \n",
    "    def map_to_destination(self, seed_number):\n",
    "        return self.destination_range_start + (seed_number - self.source_range_start)\n",
    "        \n",
    "\n",
    "def split_lines_into_maps(lines, split_string):\n",
    "    maps = {}\n",
    "    current_group = []\n",
    "    current_group_name = ''\n",
    "    \n",
    "    for line in lines:\n",
    "        if split_string in line.strip():\n",
    "            if len(current_group) != 0: maps[current_group_name] = current_group\n",
    "            current_group_name = line.strip().split('map:')[0].strip()\n",
    "            current_group = []\n",
    "        else:\n",
    "            numbers_in_line = line.strip().split()\n",
    "            source = int(numbers_in_line[0])\n",
    "            destination = int(numbers_in_line[1])\n",
    "            range_length = int(numbers_in_line[2])\n",
    "            current_group.append(MapEntry(source, destination, range_length))\n",
    "    \n",
    "    if current_group:\n",
    "        maps[current_group_name] = current_group\n",
    "    \n",
    "    return maps\n",
    "\n",
    "seeds = []\n",
    "lines = []\n",
    "\n",
    "with open('./inputs/day05-example.txt', 'r') as file:\n",
    "    for line in file:\n",
    "        if 'seeds:' in line:\n",
    "            seeds_raw = line.split('seeds:')[1]\n",
    "            seeds = seeds_raw.split()\n",
    "        elif line != '\\n':\n",
    "            lines.append(line.strip())\n",
    "\n",
    "\n",
    "maps = split_lines_into_maps(lines, 'map:')\n",
    "\n",
    "seedmap = {}\n",
    "\n",
    "\n",
    "\n",
    "for seed in seeds:\n",
    "    destination = seed\n",
    "    for name, entries in maps.items():\n",
    "        for entry in entries:\n",
    "            if entry.in_range(seed):\n",
    "                destination = entry.map_to_destination(destination)\n",
    "                break\n",
    "    seedmap[seed] = destination\n",
    "\n",
    "maps.items()"
   ]
  }
 ],
 "metadata": {
  "kernelspec": {
   "display_name": "Python 3",
   "language": "python",
   "name": "python3"
  },
  "language_info": {
   "codemirror_mode": {
    "name": "ipython",
    "version": 3
   },
   "file_extension": ".py",
   "mimetype": "text/x-python",
   "name": "python",
   "nbconvert_exporter": "python",
   "pygments_lexer": "ipython3",
   "version": "3.9.6"
  }
 },
 "nbformat": 4,
 "nbformat_minor": 2
}
