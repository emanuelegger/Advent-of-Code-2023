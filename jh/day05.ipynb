{
 "cells": [
  {
   "cell_type": "markdown",
   "metadata": {},
   "source": [
    "### Part 1"
   ]
  },
  {
   "cell_type": "code",
   "execution_count": 6,
   "metadata": {},
   "outputs": [
    {
     "name": "stdout",
     "output_type": "stream",
     "text": [
      "462648396\n"
     ]
    }
   ],
   "source": [
    "seeds = []\n",
    "\n",
    "class MapEntry:\n",
    "    def __init__(self, source_range_start, destination_range_start, range_length):\n",
    "        self.source_range_start = source_range_start\n",
    "        self.destination_range_start = destination_range_start\n",
    "        self.range_length = range_length\n",
    "        self.source_range = range(source_range_start, source_range_start + range_length)\n",
    "        self.destination_range = range(destination_range_start, destination_range_start + range_length)\n",
    "\n",
    "    def in_range(self, seed_number):\n",
    "        return seed_number in self.source_range\n",
    "    \n",
    "    def map_to_destination(self, seed_number):\n",
    "        return self.destination_range_start + (seed_number - self.source_range_start)\n",
    "        \n",
    "\n",
    "def split_lines_into_maps(lines, split_string):\n",
    "    maps = []\n",
    "    current_group = []\n",
    "    current_group_name = ''\n",
    "    \n",
    "    for line in lines:\n",
    "        if split_string in line.strip():\n",
    "            if len(current_group) != 0: maps.append(current_group)\n",
    "            current_group_name = line.strip().split('map:')[0].strip()\n",
    "            current_group = []\n",
    "        else:\n",
    "            numbers_in_line = line.strip().split()\n",
    "            destination = int(numbers_in_line[0])\n",
    "            source = int(numbers_in_line[1])\n",
    "            range_length = int(numbers_in_line[2])\n",
    "            current_group.append(MapEntry(source, destination, range_length))\n",
    "    \n",
    "    if current_group:\n",
    "        maps.append(current_group)\n",
    "    \n",
    "    return maps\n",
    "\n",
    "seeds = []\n",
    "lines = []\n",
    "\n",
    "with open('./inputs/day05.txt', 'r') as file:\n",
    "    for line in file:\n",
    "        if 'seeds:' in line:\n",
    "            seeds_raw = line.split('seeds:')[1]\n",
    "            seeds = [int(seed) for seed in seeds_raw.split()]\n",
    "        elif line != '\\n':\n",
    "            lines.append(line.strip())\n",
    "\n",
    "\n",
    "maps = split_lines_into_maps(lines, 'map:')\n",
    "\n",
    "seedmap = {}\n",
    "\n",
    "\n",
    "\n",
    "for seed in seeds:\n",
    "    destination = seed\n",
    "    for entries in maps:\n",
    "        for entry in entries:\n",
    "            if entry.in_range(destination):\n",
    "                destination = entry.map_to_destination(destination)\n",
    "                break\n",
    "    seedmap[seed] = destination\n",
    "\n",
    "\n",
    "lowest_value = min(seedmap.values())\n",
    "print(lowest_value)\n"
   ]
  },
  {
   "cell_type": "markdown",
   "metadata": {},
   "source": [
    "### Part 2"
   ]
  },
  {
   "cell_type": "code",
   "execution_count": null,
   "metadata": {},
   "outputs": [],
   "source": []
  }
 ],
 "metadata": {
  "kernelspec": {
   "display_name": "Python 3",
   "language": "python",
   "name": "python3"
  },
  "language_info": {
   "codemirror_mode": {
    "name": "ipython",
    "version": 3
   },
   "file_extension": ".py",
   "mimetype": "text/x-python",
   "name": "python",
   "nbconvert_exporter": "python",
   "pygments_lexer": "ipython3",
   "version": "3.9.6"
  }
 },
 "nbformat": 4,
 "nbformat_minor": 2
}
