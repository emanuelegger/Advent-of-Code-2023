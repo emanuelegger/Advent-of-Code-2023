{
 "cells": [
  {
   "cell_type": "markdown",
   "metadata": {},
   "source": [
    "### Part 1"
   ]
  },
  {
   "cell_type": "code",
   "execution_count": 5,
   "metadata": {},
   "outputs": [
    {
     "name": "stdout",
     "output_type": "stream",
     "text": [
      "['.', '.', '.', '.', '#', '.', '.', '.', '.', '.', '.', '.', '.']\n",
      "['.', '.', '.', '.', '.', '.', '.', '.', '.', '#', '.', '.', '.']\n",
      "['#', '.', '.', '.', '.', '.', '.', '.', '.', '.', '.', '.', '.']\n",
      "['.', '.', '.', '.', '.', '.', '.', '.', '.', '.', '.', '.', '.']\n",
      "['.', '.', '.', '.', '.', '.', '.', '.', '.', '.', '.', '.', '.']\n",
      "['.', '.', '.', '.', '.', '.', '.', '.', '#', '.', '.', '.', '.']\n",
      "['.', '#', '.', '.', '.', '.', '.', '.', '.', '.', '.', '.', '.']\n",
      "['.', '.', '.', '.', '.', '.', '.', '.', '.', '.', '.', '.', '#']\n",
      "['.', '.', '.', '.', '.', '.', '.', '.', '.', '.', '.', '.', '.']\n",
      "['.', '.', '.', '.', '.', '.', '.', '.', '.', '.', '.', '.', '.']\n",
      "['.', '.', '.', '.', '.', '.', '.', '.', '.', '#', '.', '.', '.']\n",
      "['#', '.', '.', '.', '.', '#', '.', '.', '.', '.', '.', '.', '.']\n"
     ]
    },
    {
     "data": {
      "text/plain": [
       "374"
      ]
     },
     "execution_count": 5,
     "metadata": {},
     "output_type": "execute_result"
    }
   ],
   "source": [
    "from copy import deepcopy\n",
    "from itertools import combinations\n",
    "\n",
    "file_path = './inputs/day11.txt'\n",
    "\n",
    "starmap = [list(line.strip()) for line in open(file_path, \"r\").readlines()]\n",
    "\n",
    "def is_column_empty(starmap, x):\n",
    "    row_count = len(starmap)\n",
    "\n",
    "    for i in range(row_count):\n",
    "        if starmap[i][x] != '.':\n",
    "            return False\n",
    "    return True\n",
    "\n",
    "def is_row_empty(starmap, y):\n",
    "    col_count = len(starmap[0])\n",
    "\n",
    "    for i in range(col_count):\n",
    "        if starmap[y][i] != '.':\n",
    "            return False\n",
    "    return True\n",
    "def starmap_dimensions(starmap):\n",
    "    return len(starmap[0]), len(starmap)\n",
    "\n",
    "def expand_universe(starmap, empty_starmap_columns, empty_starmap_rows):\n",
    "    new_starmap = deepcopy(starmap)\n",
    "\n",
    "    col_count, row_count = starmap_dimensions(new_starmap)\n",
    "    for empty_col in empty_starmap_columns[::-1]:    \n",
    "        for row in range(row_count):\n",
    "            new_starmap[row].insert(empty_col, '.')\n",
    "\n",
    "    col_count, row_count = starmap_dimensions(new_starmap)\n",
    "    for empty_row in empty_starmap_rows[::-1]:    \n",
    "        new_starmap.insert(empty_row, ['.'] * col_count)\n",
    "\n",
    "    return new_starmap\n",
    "\n",
    "def empty_starmap_columns(starmap):\n",
    "    col_count, _ = starmap_dimensions(starmap)\n",
    "\n",
    "    return list(filter(lambda x: is_column_empty(starmap, x), range(col_count)))\n",
    "\n",
    "def empty_starmap_rows(starmap):\n",
    "    _, row_count = starmap_dimensions(starmap)\n",
    "\n",
    "    return list(filter(lambda x: is_row_empty(starmap, x), range(row_count)))\n",
    "\n",
    "def find_galaxies(starmap):\n",
    "    galaxy = '#'\n",
    "\n",
    "    col_count, row_count = starmap_dimensions(starmap)\n",
    "    for row in range(row_count):\n",
    "        for col in range(col_count):\n",
    "            if starmap[row][col] == galaxy:\n",
    "                yield row, col\n",
    "\n",
    "def print_startmap(starmap):\n",
    "    for row in starmap:\n",
    "        print(row)\n",
    "\n",
    "expanded_startmap = expand_universe(starmap, empty_starmap_columns(starmap), empty_starmap_rows(starmap))\n",
    "\n",
    "print_startmap(expanded_startmap)\n",
    "\n",
    "galaxies = list(find_galaxies(expanded_startmap))\n",
    "galaxy_pairs = list(combinations(galaxies, 2))\n",
    "\n",
    "len(galaxy_pairs)\n",
    "\n",
    "def manhatten_distance(start, end):\n",
    "    xs, ys = start\n",
    "    xe, ye = end\n",
    "    distance = abs(ye - ys) + abs(xe - xs)\n",
    "    return (distance)\n",
    "\n",
    "sum(map(lambda x: manhatten_distance(x[0], x[1]), galaxy_pairs))"
   ]
  },
  {
   "cell_type": "markdown",
   "metadata": {},
   "source": [
    "### Part 2"
   ]
  },
  {
   "cell_type": "code",
   "execution_count": 7,
   "metadata": {},
   "outputs": [
    {
     "data": {
      "text/plain": [
       "8410"
      ]
     },
     "execution_count": 7,
     "metadata": {},
     "output_type": "execute_result"
    }
   ],
   "source": [
    "rate = 1000000\n",
    "\n",
    "def expand_universe(starmap, empty_starmap_columns, empty_starmap_rows, expansion_rate = 1):\n",
    "    new_starmap = deepcopy(starmap)\n",
    "\n",
    "    col_count, row_count = starmap_dimensions(new_starmap)\n",
    "    for empty_col in empty_starmap_columns[::-1]:    \n",
    "        for row in range(row_count):\n",
    "            for _ in range(expansion_rate):\n",
    "                new_starmap[row].insert(empty_col, '.')\n",
    "\n",
    "    col_count, row_count = starmap_dimensions(new_starmap)\n",
    "    for empty_row in empty_starmap_rows[::-1]:    \n",
    "        for _ in range(expansion_rate):\n",
    "            new_starmap.insert(empty_row, ['.'] * col_count)\n",
    "\n",
    "    return new_starmap\n",
    "\n",
    "\n",
    "expanded_startmap = expand_universe(starmap, empty_starmap_columns(starmap), empty_starmap_rows(starmap), rate - 1)\n",
    "galaxies = list(find_galaxies(expanded_startmap))\n",
    "galaxy_pairs = list(combinations(galaxies, 2))\n",
    "def manhatten_distance(start, end):\n",
    "    xs, ys = start\n",
    "    xe, ye = end\n",
    "    distance = abs(ye - ys) + abs(xe - xs)\n",
    "    return (distance)\n",
    "\n",
    "sum(map(lambda x: manhatten_distance(x[0], x[1]), galaxy_pairs))"
   ]
  }
 ],
 "metadata": {
  "kernelspec": {
   "display_name": "Python 3",
   "language": "python",
   "name": "python3"
  },
  "language_info": {
   "codemirror_mode": {
    "name": "ipython",
    "version": 3
   },
   "file_extension": ".py",
   "mimetype": "text/x-python",
   "name": "python",
   "nbconvert_exporter": "python",
   "pygments_lexer": "ipython3",
   "version": "3.9.6"
  }
 },
 "nbformat": 4,
 "nbformat_minor": 2
}
