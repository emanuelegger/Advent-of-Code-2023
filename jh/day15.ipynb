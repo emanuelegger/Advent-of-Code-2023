{
 "cells": [
  {
   "cell_type": "markdown",
   "metadata": {},
   "source": [
    "### Part 1"
   ]
  },
  {
   "cell_type": "code",
   "execution_count": 30,
   "metadata": {},
   "outputs": [
    {
     "data": {
      "text/plain": [
       "504036"
      ]
     },
     "execution_count": 30,
     "metadata": {},
     "output_type": "execute_result"
    }
   ],
   "source": [
    "file_path = './inputs/day15.txt'\n",
    "line = [line.strip() for line in open(file_path, \"r\").readlines()][0]\n",
    "\n",
    "values = line.split(',')\n",
    "\n",
    "current_value = 0\n",
    "\n",
    "def hash_algo(x, curr):\n",
    "    # get asscicode of character X\n",
    "    # add current value\n",
    "    # multiply by 17\n",
    "    # calculate remainder of dividing by 256\n",
    "    return ((ord(x) + curr) * 17) % 256\n",
    "\n",
    "results = []\n",
    "for text in values:\n",
    "    res = 0\n",
    "    for char in list(text.strip()):\n",
    "        res = hash_algo(char, res)\n",
    "    results.append(res)\n",
    "    \n",
    "\n",
    "sum(results)"
   ]
  },
  {
   "cell_type": "markdown",
   "metadata": {},
   "source": [
    "### Part 2"
   ]
  },
  {
   "cell_type": "code",
   "execution_count": null,
   "metadata": {},
   "outputs": [],
   "source": [
    "# WIP"
   ]
  }
 ],
 "metadata": {
  "kernelspec": {
   "display_name": "Python 3",
   "language": "python",
   "name": "python3"
  },
  "language_info": {
   "codemirror_mode": {
    "name": "ipython",
    "version": 3
   },
   "file_extension": ".py",
   "mimetype": "text/x-python",
   "name": "python",
   "nbconvert_exporter": "python",
   "pygments_lexer": "ipython3",
   "version": "3.9.6"
  }
 },
 "nbformat": 4,
 "nbformat_minor": 2
}
