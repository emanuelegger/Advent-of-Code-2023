{
 "cells": [
  {
   "cell_type": "markdown",
   "metadata": {},
   "source": [
    "### Part 1"
   ]
  },
  {
   "cell_type": "code",
   "execution_count": 1,
   "metadata": {},
   "outputs": [
    {
     "data": {
      "text/plain": [
       "504036"
      ]
     },
     "execution_count": 1,
     "metadata": {},
     "output_type": "execute_result"
    }
   ],
   "source": [
    "file_path = './inputs/day15.txt'\n",
    "line = [line.strip() for line in open(file_path, \"r\").readlines()][0]\n",
    "\n",
    "values = line.split(',')\n",
    "\n",
    "current_value = 0\n",
    "\n",
    "def hash_algo(x, curr):\n",
    "    # get asscicode of character X\n",
    "    # add current value\n",
    "    # multiply by 17\n",
    "    # calculate remainder of dividing by 256\n",
    "    return ((ord(x) + curr) * 17) % 256\n",
    "\n",
    "results = []\n",
    "for text in values:\n",
    "    res = 0\n",
    "    for char in list(text.strip()):\n",
    "        res = hash_algo(char, res)\n",
    "    results.append(res)\n",
    "    \n",
    "\n",
    "sum(results)"
   ]
  },
  {
   "cell_type": "markdown",
   "metadata": {},
   "source": [
    "### Part 2"
   ]
  },
  {
   "cell_type": "code",
   "execution_count": 8,
   "metadata": {},
   "outputs": [
    {
     "data": {
      "text/plain": [
       "295719"
      ]
     },
     "execution_count": 8,
     "metadata": {},
     "output_type": "execute_result"
    }
   ],
   "source": [
    "def run_hash_for_text(label):\n",
    "    res = 0\n",
    "    for char in list(label.strip()):\n",
    "        res = hash_algo(char, res)\n",
    "    return res;\n",
    "\n",
    "commands=[]\n",
    "for value in values:\n",
    "    operation = None\n",
    "    if '-' in value:\n",
    "        operation = '-'\n",
    "        commands.append((value.split(operation)[0], None, operation))\n",
    "    else:\n",
    "        operation = '='\n",
    "        commands.append((value.split(operation)[0], value.split(operation)[1], operation))\n",
    "\n",
    "boxes = [{} for _ in range(256)]\n",
    "\n",
    "\n",
    "for command in commands:\n",
    "    label = run_hash_for_text(command[0])\n",
    "\n",
    "    if command[2] == '-':\n",
    "        box_content = boxes[label]\n",
    "        if command[0] in box_content.keys():\n",
    "            boxes[label].pop(command[0])\n",
    "\n",
    "    if command[2] == '=':\n",
    "        boxes[label][command[0]] = command[1]\n",
    "\n",
    "res = 0\n",
    "\n",
    "for i, box in enumerate(boxes):\n",
    "    for j, value in enumerate(box.values()):\n",
    "        res += (i + 1) * (j + 1) * int(value)\n",
    "        \n",
    "res\n",
    "\n",
    "\n"
   ]
  }
 ],
 "metadata": {
  "kernelspec": {
   "display_name": "Python 3",
   "language": "python",
   "name": "python3"
  },
  "language_info": {
   "codemirror_mode": {
    "name": "ipython",
    "version": 3
   },
   "file_extension": ".py",
   "mimetype": "text/x-python",
   "name": "python",
   "nbconvert_exporter": "python",
   "pygments_lexer": "ipython3",
   "version": "3.9.6"
  }
 },
 "nbformat": 4,
 "nbformat_minor": 2
}
