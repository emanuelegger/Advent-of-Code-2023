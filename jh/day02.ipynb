{
 "cells": [
  {
   "cell_type": "code",
   "execution_count": 36,
   "metadata": {},
   "outputs": [
    {
     "name": "stdout",
     "output_type": "stream",
     "text": [
      "2207\n"
     ]
    }
   ],
   "source": [
    "# Part 1\n",
    "\n",
    "games = []\n",
    "with open('./inputs/day02.txt', 'r') as file:\n",
    "    for line in file:\n",
    "        game_data = {}\n",
    "        game_parts = line.strip().split(': ')\n",
    "        game_data['gameNumber'] = int(game_parts[0].split(' ')[1])\n",
    "        draws = game_parts[1].split('; ')\n",
    "        for i, draw in enumerate(draws, start=1):\n",
    "            draw_data = {}\n",
    "            colors = draw.split(', ')\n",
    "            for color in colors:\n",
    "                count, color_name = color.split(' ')\n",
    "                draw_data[color_name] = int(count)\n",
    "            game_data[f'draw_{i}'] = draw_data\n",
    "        games.append(game_data)\n",
    "\n",
    "max_red = 12\n",
    "max_green = 13\n",
    "max_blue = 14\n",
    "\n",
    "invalid_games = set([])\n",
    "\n",
    "def color_in_draw_greater(draw, color, max_color):\n",
    "    return color in draw and draw[color] > max_color\n",
    "\n",
    "def number_of_draws_in_game(game):\n",
    "    return len([draw for draw in game if draw.startswith('draw_')])\n",
    "    \n",
    "\n",
    "for game in games:\n",
    "    for i in range(1, number_of_draws_in_game(game) + 1):\n",
    "        draw = game[f'draw_{i}']\n",
    "        if color_in_draw_greater(draw, 'red', max_red) or color_in_draw_greater(draw, 'green', max_green) or color_in_draw_greater(draw, 'blue', max_blue):\n",
    "            invalid_games.add(game['gameNumber'])\n",
    "\n",
    "\n",
    "    \n",
    "filtered_and_mapped_games = list(map(lambda game: game['gameNumber'], filter(lambda game: game['gameNumber'] not in invalid_games, games)))\n",
    "\n",
    "print(sum(filtered_and_mapped_games))\n"
   ]
  },
  {
   "cell_type": "code",
   "execution_count": 72,
   "metadata": {},
   "outputs": [
    {
     "name": "stdout",
     "output_type": "stream",
     "text": [
      "62241\n"
     ]
    }
   ],
   "source": [
    "# Part 2\n",
    "\n",
    "required_colors_for_game = []\n",
    "\n",
    "for game in games:\n",
    "    max_red_in_game = 0\n",
    "    max_blue_in_game = 0\n",
    "    max_green_in_game = 0\n",
    "\n",
    "    for i in range(1, number_of_draws_in_game(game) + 1):\n",
    "        draw = game[f'draw_{i}']\n",
    "        \n",
    "        max_red_in_game = draw['red'] if 'red' in draw  and draw['red'] > max_red_in_game else max_red_in_game\n",
    "        max_blue_in_game = draw['blue'] if 'blue' in draw  and draw['blue'] > max_blue_in_game else max_blue_in_game\n",
    "        max_green_in_game = draw['green'] if 'green' in draw  and draw['green'] > max_green_in_game else max_green_in_game\n",
    "        \n",
    "    required_colors_for_game.append({ 'id': game['gameNumber'], 'red': max_red_in_game, 'blue': max_blue_in_game, 'green': max_green_in_game })\n",
    "\n",
    "filtered_and_mapped_games = list(map(lambda game: game['red'] * game['blue'] * game['green'], required_colors_for_game))\n",
    "\n",
    "print(sum(filtered_and_mapped_games))\n",
    "    "
   ]
  }
 ],
 "metadata": {
  "kernelspec": {
   "display_name": ".venv",
   "language": "python",
   "name": "python3"
  },
  "language_info": {
   "codemirror_mode": {
    "name": "ipython",
    "version": 3
   },
   "file_extension": ".py",
   "mimetype": "text/x-python",
   "name": "python",
   "nbconvert_exporter": "python",
   "pygments_lexer": "ipython3",
   "version": "3.10.6"
  }
 },
 "nbformat": 4,
 "nbformat_minor": 2
}
