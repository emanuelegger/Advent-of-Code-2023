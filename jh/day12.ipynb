{
 "cells": [
  {
   "cell_type": "markdown",
   "metadata": {},
   "source": [
    "### Part 1"
   ]
  },
  {
   "cell_type": "code",
   "execution_count": 2,
   "metadata": {},
   "outputs": [
    {
     "data": {
      "text/plain": [
       "21"
      ]
     },
     "execution_count": 2,
     "metadata": {},
     "output_type": "execute_result"
    }
   ],
   "source": [
    "import re\n",
    "import itertools\n",
    "\n",
    "file_path = './inputs/day12.txt'\n",
    "lines = [line.strip() for line in open(file_path, \"r\").readlines()]\n",
    "\n",
    "def map_spring_arrangement(arragement):\n",
    "    springs, groups = arragement.split(' ')\n",
    "    ordered_groups = [int(i) for i in groups.split(',')]\n",
    "    return (springs, ordered_groups)\n",
    "\n",
    "def is_arragement_valid(arragement, ordered_groups):\n",
    "    regex = r'(\\#+)'\n",
    "    matches = re.findall(regex, arragement)\n",
    "    \n",
    "    groups = list(map(lambda x: len(x), matches))\n",
    "\n",
    "    return groups == ordered_groups\n",
    "\n",
    "def find_permutations(string):\n",
    "    replacements = ['.', '#']\n",
    "    permutations = []\n",
    "    \n",
    "    for combination in itertools.product(replacements, repeat=string.count('?')):\n",
    "        new_string = string.replace('?', '{}').format(*combination)\n",
    "        permutations.append(new_string)\n",
    "    \n",
    "    return permutations\n",
    "\n",
    "def calculate_and_count_arragements(spring_arrangements):\n",
    "    count = 0\n",
    "    for arrangement in spring_arrangements:\n",
    "        springs, ordered_groups = arrangement\n",
    "        permutations = find_permutations(springs)\n",
    "        \n",
    "        for permutation in permutations:\n",
    "            if is_arragement_valid(permutation, ordered_groups):\n",
    "                count += 1\n",
    "    \n",
    "    return count\n",
    "\n",
    "spring_arrangements = list(map(lambda x: map_spring_arrangement(x), lines))\n",
    "\n",
    "calculate_and_count_arragements(spring_arrangements)\n"
   ]
  },
  {
   "cell_type": "markdown",
   "metadata": {},
   "source": [
    "### Part 2"
   ]
  },
  {
   "cell_type": "code",
   "execution_count": 14,
   "metadata": {},
   "outputs": [
    {
     "data": {
      "text/plain": [
       "525152"
      ]
     },
     "execution_count": 14,
     "metadata": {},
     "output_type": "execute_result"
    }
   ],
   "source": [
    "from functools import cache\n",
    "\n",
    "def replace_string_with_question_marks(string):\n",
    "    repeated_string = (string + \"?\") * 5\n",
    "    return repeated_string[:-1]\n",
    "\n",
    "def repeat_array(array):\n",
    "    return array * 5\n",
    "\n",
    "spring_arrangements = list(map(lambda x: map_spring_arrangement(x), lines))\n",
    "spring_arrangements = list(map(lambda x: (replace_string_with_question_marks(x[0]), repeat_array(x[1])), spring_arrangements))\n",
    "\n"
   ]
  }
 ],
 "metadata": {
  "kernelspec": {
   "display_name": "Python 3",
   "language": "python",
   "name": "python3"
  },
  "language_info": {
   "codemirror_mode": {
    "name": "ipython",
    "version": 3
   },
   "file_extension": ".py",
   "mimetype": "text/x-python",
   "name": "python",
   "nbconvert_exporter": "python",
   "pygments_lexer": "ipython3",
   "version": "3.9.6"
  }
 },
 "nbformat": 4,
 "nbformat_minor": 2
}
