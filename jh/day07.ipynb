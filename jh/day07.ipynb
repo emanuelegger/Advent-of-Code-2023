{
 "cells": [
  {
   "cell_type": "code",
   "execution_count": 65,
   "metadata": {},
   "outputs": [],
   "source": [
    "from util import read_file_into_lines\n",
    "import functools\n",
    "\n",
    "file_path = './inputs/day07.txt'\n",
    "\n",
    "lines = read_file_into_lines(file_path)"
   ]
  },
  {
   "cell_type": "markdown",
   "metadata": {},
   "source": [
    "### Part 1"
   ]
  },
  {
   "cell_type": "code",
   "execution_count": 66,
   "metadata": {},
   "outputs": [
    {
     "name": "stdout",
     "output_type": "stream",
     "text": [
      "251927063\n",
      "{'cards': ['J', '4', '4', '4', '4'], 'dict': {'J': 1, '4': 4}, 'bid': '240', 'value': {'hand_value': 'four of a kind', 'card_value': 'unknown'}}\n",
      "hand i value {'hand_value': 'four of a kind', 'card_value': 'unknown'}\n",
      "hand h value {'hand_value': 'high card', 'card_value': 'K'}\n",
      "test_hand value {'hand_value': 'five of a kind', 'card_value': 'unknown'}\n"
     ]
    },
    {
     "data": {
      "text/plain": [
       "1"
      ]
     },
     "execution_count": 66,
     "metadata": {},
     "output_type": "execute_result"
    }
   ],
   "source": [
    "card_values = ['2', '3', '4', '5', '6', '7', '8', '9', 'T', 'J','Q', 'K', 'A']\n",
    "\n",
    "hand_values = ['high card', 'pair', 'two pair', 'three of a kind', 'full house', 'four of a kind', 'five of a kind']\n",
    "\n",
    "\n",
    "def check_two_keys_with_value_two(dictionary):\n",
    "    count = 0\n",
    "    for value in dictionary.values():\n",
    "        if value == 2:\n",
    "            count += 1\n",
    "        if count == 2:\n",
    "            return True\n",
    "    return False\n",
    "\n",
    "def evaluate_hand(hand):\n",
    "    card_value = 'unknown'\n",
    "    hand_value = 'unknown'\n",
    "\n",
    "    if any(value == 2 for key, value in hand['dict'].items()): \n",
    "        hand_value = 'pair'\n",
    "    \n",
    "    if (check_two_keys_with_value_two(hand['dict'])):\n",
    "        hand_value = 'two pair'\n",
    "\n",
    "    if any(value == 3 for key, value in hand['dict'].items()) and hand_value == 'pair':\n",
    "        hand_value = 'full house'\n",
    "    elif any(value == 3 for key, value in hand['dict'].items()):\n",
    "        hand_value = 'three of a kind'\n",
    "    \n",
    "    if any(value == 4 for key, value in hand['dict'].items()):\n",
    "        hand_value = 'four of a kind'\n",
    "\n",
    "    if any(value == 5 for key, value in hand['dict'].items()):\n",
    "        hand_value = 'five of a kind'\n",
    "\n",
    "    if hand_value == 'unknown':\n",
    "        hand_value = 'high card'\n",
    "        card_value = card_values[max([card_values.index(card) for card in hand['cards'] if card in card_values])]\n",
    "        \n",
    "\n",
    "    return {'hand_value': hand_value, 'card_value': card_value}\n",
    "    \n",
    "\n",
    "def read_lines_into_hands(lines):\n",
    "    parsed_lines = []\n",
    "    for line in lines:\n",
    "        line_parts = line.strip().split(' ')\n",
    "        \n",
    "        hand = []\n",
    "        for char in line_parts[0]:\n",
    "            hand.append(char)\n",
    "\n",
    "        hand_dict = {}\n",
    "        for card in hand:\n",
    "            if card in hand_dict:\n",
    "                hand_dict[card] += 1\n",
    "            else:\n",
    "                hand_dict[card] = 1\n",
    "\n",
    "        bid = line_parts[1]\n",
    "        parsed_lines.append({'cards': hand, 'dict': hand_dict, 'bid': bid})\n",
    "    return parsed_lines\n",
    "\n",
    "hands = read_lines_into_hands(lines)\n",
    "\n",
    "for hand in hands:\n",
    "    hand['value'] = evaluate_hand(hand)\n",
    "\n",
    "\n",
    "def compare(hand_1, hand_2):\n",
    "    hand_1_strength = hand_values.index(hand_1['value']['hand_value'])\n",
    "    hand_2_strength = hand_values.index(hand_2['value']['hand_value'])\n",
    "\n",
    "    if hand_1_strength < hand_2_strength:\n",
    "        return -1\n",
    "    \n",
    "    if hand_1_strength > hand_2_strength:\n",
    "        return 1\n",
    "    \n",
    "    if hand_1_strength == hand_2_strength: \n",
    "\n",
    "        for index in range(0, 5):\n",
    "            if (card_values.index(hand_1['cards'][index]) < card_values.index(hand_2['cards'][index])):\n",
    "                return -1\n",
    "            if (card_values.index(hand_1['cards'][index]) > card_values.index(hand_2['cards'][index])):\n",
    "                return 1    \n",
    "        return 0\n",
    "\n",
    "sorted_hands = sorted(hands, key=functools.cmp_to_key(compare))\n",
    "\n",
    "result = sum((int(hand['bid']) * (index + 1)) for index, hand in enumerate(sorted_hands))\n",
    "\n",
    "print(result)\n"
   ]
  }
 ],
 "metadata": {
  "kernelspec": {
   "display_name": "Python 3",
   "language": "python",
   "name": "python3"
  },
  "language_info": {
   "codemirror_mode": {
    "name": "ipython",
    "version": 3
   },
   "file_extension": ".py",
   "mimetype": "text/x-python",
   "name": "python",
   "nbconvert_exporter": "python",
   "pygments_lexer": "ipython3",
   "version": "3.9.6"
  }
 },
 "nbformat": 4,
 "nbformat_minor": 2
}
