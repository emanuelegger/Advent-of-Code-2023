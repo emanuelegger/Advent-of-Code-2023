{
 "cells": [
  {
   "cell_type": "markdown",
   "metadata": {},
   "source": [
    "### Part 1"
   ]
  },
  {
   "cell_type": "code",
   "execution_count": 37,
   "metadata": {},
   "outputs": [
    {
     "name": "stdout",
     "output_type": "stream",
     "text": [
      "1995001648\n"
     ]
    }
   ],
   "source": [
    "\n",
    "from re import findall\n",
    "\n",
    "file_path = './inputs/day09.txt'\n",
    "\n",
    "lines = open(file_path, \"r\").readlines()\n",
    "all_series = [line.split() for line in lines]\n",
    "\n",
    "def calculate_next_series(series):\n",
    "    series_length = len(series)\n",
    "    next_series = []\n",
    "    for index, number in enumerate(series):\n",
    "        if (index == series_length - 1):\n",
    "            return next_series\n",
    "        \n",
    "        diff = int(series[index+1]) - int(number)\n",
    "        next_series.append(diff)\n",
    "\n",
    "results = []        \n",
    "\n",
    "for series in all_series:\n",
    "    is_all_zero = False\n",
    "    sub_series = [series]\n",
    "    while (not is_all_zero):\n",
    "        sub_series.append(calculate_next_series(sub_series[-1]))\n",
    "        is_all_zero = all([number == 0 for number in sub_series[-1]])\n",
    "    \n",
    "    result = 0\n",
    "    for sub in sub_series[::-1]:\n",
    "        result += int(sub[-1])\n",
    "    \n",
    "    results.append(result)\n",
    "\n",
    "print(sum(results))"
   ]
  },
  {
   "cell_type": "markdown",
   "metadata": {},
   "source": [
    "### Part 2"
   ]
  },
  {
   "cell_type": "code",
   "execution_count": 38,
   "metadata": {},
   "outputs": [
    {
     "name": "stdout",
     "output_type": "stream",
     "text": [
      "988\n"
     ]
    }
   ],
   "source": [
    "results = []        \n",
    "\n",
    "for series in all_series:\n",
    "    is_all_zero = False\n",
    "    sub_series = [series]\n",
    "    while (not is_all_zero):\n",
    "        sub_series.append(calculate_next_series(sub_series[-1]))\n",
    "        is_all_zero = all([number == 0 for number in sub_series[-1]])\n",
    "    \n",
    "    result = 0\n",
    "    for sub in sub_series[::-1]:\n",
    "        result = int(sub[0]) - result\n",
    "    \n",
    "    results.append(result)\n",
    "\n",
    "print(sum(results))"
   ]
  }
 ],
 "metadata": {
  "kernelspec": {
   "display_name": "Python 3",
   "language": "python",
   "name": "python3"
  },
  "language_info": {
   "codemirror_mode": {
    "name": "ipython",
    "version": 3
   },
   "file_extension": ".py",
   "mimetype": "text/x-python",
   "name": "python",
   "nbconvert_exporter": "python",
   "pygments_lexer": "ipython3",
   "version": "0.0.0"
  }
 },
 "nbformat": 4,
 "nbformat_minor": 2
}
