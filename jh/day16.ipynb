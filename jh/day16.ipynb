{
  "cells": [
    {
      "cell_type": "markdown",
      "metadata": {},
      "source": [
        "### Part 1"
      ]
    },
    {
      "cell_type": "code",
      "execution_count": 14,
      "metadata": {},
      "outputs": [],
      "source": [
        "file_path = './inputs/day16.txt'\n",
        "\n",
        "lines = [list(line.strip()) for line in open(file_path, \"r\").readlines()]"
      ]
    },
    {
      "cell_type": "code",
      "execution_count": 18,
      "metadata": {},
      "outputs": [
        {
          "data": {
            "text/plain": [
              "8551"
            ]
          },
          "execution_count": 18,
          "metadata": {},
          "output_type": "execute_result"
        }
      ],
      "source": [
        "\n",
        "light_beams = []\n",
        "\n",
        "def initialize_beam(): \n",
        "    return {\n",
        "        'x': 0,\n",
        "        'y': 0,\n",
        "        'direction': 'right'\n",
        "    }\n",
        "\n",
        "def empty_space(beam):\n",
        "    if beam['direction'] == 'right':\n",
        "        beam['x'] += 1\n",
        "    elif beam['direction'] == 'left':\n",
        "        beam['x'] -= 1\n",
        "    elif beam['direction'] == 'up':\n",
        "        beam['y'] -= 1\n",
        "    elif beam['direction'] == 'down':\n",
        "        beam['y'] += 1\n",
        "    return beam\n",
        "\n",
        "def mirror(beam, mirror):\n",
        "    if mirror == '/':\n",
        "        if beam['direction'] == 'right':\n",
        "            beam['direction'] = 'up'\n",
        "            beam['y'] -= 1\n",
        "        elif beam['direction'] == 'left':\n",
        "            beam['direction'] = 'down'\n",
        "            beam['y'] += 1\n",
        "        elif beam['direction'] == 'up':\n",
        "            beam['direction'] = 'right'\n",
        "            beam['x'] += 1\n",
        "        elif beam['direction'] == 'down':\n",
        "            beam['direction'] = 'left'\n",
        "            beam['x'] -= 1\n",
        "    elif mirror == '\\\\':\n",
        "        if beam['direction'] == 'right':\n",
        "            beam['direction'] = 'down'\n",
        "            beam['y'] += 1\n",
        "        elif beam['direction'] == 'left':\n",
        "            beam['direction'] = 'up'\n",
        "            beam['y'] -= 1\n",
        "        elif beam['direction'] == 'up':\n",
        "            beam['direction'] = 'left'\n",
        "            beam['x'] -= 1\n",
        "        elif beam['direction'] == 'down':\n",
        "            beam['direction'] = 'right'\n",
        "            beam['x'] += 1\n",
        "    return beam\n",
        "\n",
        "def splitter(beam, splitter):\n",
        "    if splitter == '-':\n",
        "        if beam['direction'] == 'right':\n",
        "            beam['x'] += 1\n",
        "        elif beam['direction'] == 'left':\n",
        "            beam['x'] -= 1\n",
        "        elif beam['direction'] == 'up' or beam['direction'] == 'down':\n",
        "            beam['x'] += 1\n",
        "            beam['direction'] = 'right'\n",
        "            light_beams.append({'x': beam['x'] - 1, 'y': beam['y'], 'direction': 'left'})\n",
        "    elif splitter == '|':\n",
        "        if beam['direction'] == 'right' or beam['direction'] == 'left':\n",
        "            beam['y'] -= 1\n",
        "            beam['direction'] = 'up'\n",
        "            light_beams.append({'x': beam['x'], 'y': beam['y'] + 1, 'direction': 'down'})\n",
        "        elif beam['direction'] == 'up':\n",
        "            beam['y'] -= 1\n",
        "        elif beam['direction'] == 'down':\n",
        "            beam['y'] += 1\n",
        "\n",
        "\n",
        "def is_beam_legal(beam):\n",
        "    return beam['x'] < len(lines[0]) and beam['x'] >= 0 and beam['y'] < len(lines) and beam['y'] >= 0\n",
        "\n",
        "def beams_still_in_grid_and_no_duplicate(beams, positions):\n",
        "    beams_to_remove = []\n",
        "    found_legal_beam = False\n",
        "    for beam in beams:\n",
        "        if is_beam_legal(beam) and (beam['x'], beam['y'], beam['direction']) not in positions:\n",
        "            found_legal_beam = True\n",
        "        elif (beam['x'], beam['y'], beam['direction']) in positions:\n",
        "            beams_to_remove.append(beam)\n",
        "        else:\n",
        "            beams_to_remove.append(beam)\n",
        "            \n",
        "    for beam in beams_to_remove:\n",
        "        beams.remove(beam)\n",
        "    return found_legal_beam\n",
        "\n",
        "\n",
        "def print_grid(lines, positions):\n",
        "    print('\\n')\n",
        "    for index, line in enumerate(lines):\n",
        "        replace_visited = line.copy()\n",
        "        for position in positions:\n",
        "            if position[1] < len(lines) and position[1] >= 0 and position[0] < len(lines[0]) and position[0] >= 0 and position[1] == index:\n",
        "                replace_visited[position[0]] = '#'\n",
        "        print(''.join(replace_visited))\n",
        "\n",
        "\n",
        "def beam_travel(light_beams):\n",
        "    positions = set()\n",
        "    while beams_still_in_grid_and_no_duplicate(light_beams, positions):\n",
        "        for beam in light_beams:\n",
        "            positions.add((beam['x'], beam['y'], beam['direction']))\n",
        "\n",
        "            if lines[beam['y']][beam['x']] == '.':\n",
        "                empty_space(beam)\n",
        "            elif lines[beam['y']][beam['x']] == '/' or lines[beam['y']][beam['x']] == '\\\\':\n",
        "                mirror(beam, lines[beam['y']][beam['x']])\n",
        "            elif lines[beam['y']][beam['x']] == '|' or lines[beam['y']][beam['x']] == '-':\n",
        "                splitter(beam, lines[beam['y']][beam['x']])\n",
        "            # print_grid(lines, positions)\n",
        "    \n",
        "    unique_positions = set()\n",
        "    for res in result[1]:\n",
        "        x, y, *_ = res\n",
        "        unique_positions.add(tuple([x, y]))            \n",
        "        \n",
        "    return unique_positions\n",
        "\n",
        "\n",
        "\n",
        "light_beams.append(initialize_beam())\n",
        "len(beam_travel(light_beams))\n",
        "    \n",
        "\n",
        "\n",
        "\n",
        "    "
      ]
    },
    {
      "cell_type": "markdown",
      "metadata": {},
      "source": [
        "### Part 2"
      ]
    },
    {
      "cell_type": "code",
      "execution_count": null,
      "metadata": {},
      "outputs": [],
      "source": [
        "# WIP"
      ]
    }
  ],
  "metadata": {
    "kernelspec": {
      "display_name": "Python 3",
      "language": "python",
      "name": "python3"
    },
    "language_info": {
      "codemirror_mode": {
        "name": "ipython",
        "version": 3
      },
      "file_extension": ".py",
      "mimetype": "text/x-python",
      "name": "python",
      "nbconvert_exporter": "python",
      "pygments_lexer": "ipython3",
      "version": "3.9.6"
    }
  },
  "nbformat": 4,
  "nbformat_minor": 2
}
