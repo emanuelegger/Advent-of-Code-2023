{
  "cells": [
    {
      "cell_type": "markdown",
      "metadata": {},
      "source": [
        "### Part 1"
      ]
    },
    {
      "cell_type": "code",
      "execution_count": 30,
      "metadata": {},
      "outputs": [],
      "source": [
        "file_path = './inputs/day16.txt'\n",
        "\n",
        "lines = [list(line.strip()) for line in open(file_path, \"r\").readlines()]"
      ]
    },
    {
      "cell_type": "code",
      "execution_count": 31,
      "metadata": {},
      "outputs": [
        {
          "data": {
            "text/plain": [
              "8551"
            ]
          },
          "execution_count": 31,
          "metadata": {},
          "output_type": "execute_result"
        }
      ],
      "source": [
        "\n",
        "def initialize_beam(x = 0, y = 0, direction = 'right'): \n",
        "    return {\n",
        "        'x': x,\n",
        "        'y': y,\n",
        "        'direction': direction\n",
        "    }\n",
        "\n",
        "def empty_space(beam):\n",
        "    if beam['direction'] == 'right':\n",
        "        beam['x'] += 1\n",
        "    elif beam['direction'] == 'left':\n",
        "        beam['x'] -= 1\n",
        "    elif beam['direction'] == 'up':\n",
        "        beam['y'] -= 1\n",
        "    elif beam['direction'] == 'down':\n",
        "        beam['y'] += 1\n",
        "    return beam\n",
        "\n",
        "def mirror(beam, mirror):\n",
        "    if mirror == '/':\n",
        "        if beam['direction'] == 'right':\n",
        "            beam['direction'] = 'up'\n",
        "            beam['y'] -= 1\n",
        "        elif beam['direction'] == 'left':\n",
        "            beam['direction'] = 'down'\n",
        "            beam['y'] += 1\n",
        "        elif beam['direction'] == 'up':\n",
        "            beam['direction'] = 'right'\n",
        "            beam['x'] += 1\n",
        "        elif beam['direction'] == 'down':\n",
        "            beam['direction'] = 'left'\n",
        "            beam['x'] -= 1\n",
        "    elif mirror == '\\\\':\n",
        "        if beam['direction'] == 'right':\n",
        "            beam['direction'] = 'down'\n",
        "            beam['y'] += 1\n",
        "        elif beam['direction'] == 'left':\n",
        "            beam['direction'] = 'up'\n",
        "            beam['y'] -= 1\n",
        "        elif beam['direction'] == 'up':\n",
        "            beam['direction'] = 'left'\n",
        "            beam['x'] -= 1\n",
        "        elif beam['direction'] == 'down':\n",
        "            beam['direction'] = 'right'\n",
        "            beam['x'] += 1\n",
        "    return beam\n",
        "\n",
        "def splitter(beam, splitter, light_beams):\n",
        "    if splitter == '-':\n",
        "        if beam['direction'] == 'right':\n",
        "            beam['x'] += 1\n",
        "        elif beam['direction'] == 'left':\n",
        "            beam['x'] -= 1\n",
        "        elif beam['direction'] == 'up' or beam['direction'] == 'down':\n",
        "            beam['x'] += 1\n",
        "            beam['direction'] = 'right'\n",
        "            light_beams.append({'x': beam['x'] - 1, 'y': beam['y'], 'direction': 'left'})\n",
        "    elif splitter == '|':\n",
        "        if beam['direction'] == 'right' or beam['direction'] == 'left':\n",
        "            beam['y'] -= 1\n",
        "            beam['direction'] = 'up'\n",
        "            light_beams.append({'x': beam['x'], 'y': beam['y'] + 1, 'direction': 'down'})\n",
        "        elif beam['direction'] == 'up':\n",
        "            beam['y'] -= 1\n",
        "        elif beam['direction'] == 'down':\n",
        "            beam['y'] += 1\n",
        "\n",
        "\n",
        "def is_beam_legal(beam):\n",
        "    return beam['x'] < len(lines[0]) and beam['x'] >= 0 and beam['y'] < len(lines) and beam['y'] >= 0\n",
        "\n",
        "def beams_still_in_grid_and_no_duplicate(beams, positions):\n",
        "    beams_to_remove = []\n",
        "    found_legal_beam = False\n",
        "    for beam in beams:\n",
        "        if is_beam_legal(beam) and (beam['x'], beam['y'], beam['direction']) not in positions:\n",
        "            found_legal_beam = True\n",
        "        elif (beam['x'], beam['y'], beam['direction']) in positions:\n",
        "            beams_to_remove.append(beam)\n",
        "        else:\n",
        "            beams_to_remove.append(beam)\n",
        "            \n",
        "    for beam in beams_to_remove:\n",
        "        beams.remove(beam)\n",
        "    return found_legal_beam\n",
        "\n",
        "\n",
        "def print_grid(lines, positions):\n",
        "    print('\\n')\n",
        "    for index, line in enumerate(lines):\n",
        "        replace_visited = line.copy()\n",
        "        for position in positions:\n",
        "            if position[1] < len(lines) and position[1] >= 0 and position[0] < len(lines[0]) and position[0] >= 0 and position[1] == index:\n",
        "                replace_visited[position[0]] = '#'\n",
        "        print(''.join(replace_visited))\n",
        "\n",
        "\n",
        "def beam_travel(light_beams):\n",
        "    positions = set()\n",
        "    while beams_still_in_grid_and_no_duplicate(light_beams, positions):\n",
        "        for beam in light_beams:\n",
        "            positions.add((beam['x'], beam['y'], beam['direction']))\n",
        "\n",
        "            if lines[beam['y']][beam['x']] == '.':\n",
        "                empty_space(beam)\n",
        "            elif lines[beam['y']][beam['x']] == '/' or lines[beam['y']][beam['x']] == '\\\\':\n",
        "                mirror(beam, lines[beam['y']][beam['x']])\n",
        "            elif lines[beam['y']][beam['x']] == '|' or lines[beam['y']][beam['x']] == '-':\n",
        "                splitter(beam, lines[beam['y']][beam['x']], light_beams)\n",
        "            # print_grid(lines, positions)\n",
        "    \n",
        "    unique_positions = set()\n",
        "    for res in positions:\n",
        "        x, y, *_ = res\n",
        "        unique_positions.add(tuple([x, y]))            \n",
        "        \n",
        "    return unique_positions\n",
        "\n",
        "\n",
        "len(beam_travel([initialize_beam()]))"
      ]
    },
    {
      "cell_type": "markdown",
      "metadata": {},
      "source": [
        "### Part 2"
      ]
    },
    {
      "cell_type": "code",
      "execution_count": 32,
      "metadata": {},
      "outputs": [
        {
          "data": {
            "text/plain": [
              "8754"
            ]
          },
          "execution_count": 32,
          "metadata": {},
          "output_type": "execute_result"
        }
      ],
      "source": [
        "def generate_origins():\n",
        "    origins = []\n",
        "    for i in range(len(lines)):\n",
        "        for j in range(len(lines[0])):\n",
        "            if i == 0 or i == len(lines) - 1 or j == 0 or j == len(lines[0]) - 1:\n",
        "                origins.append((i, j))\n",
        "    return origins\n",
        "\n",
        "def generate_starting_beams(origins):\n",
        "    starting_beams = []\n",
        "    for origin in origins:\n",
        "        if (origin[0] == 0):\n",
        "            starting_beams.append(initialize_beam(origin[0], origin[1], 'right'))\n",
        "        if (origin[0] == len(lines) - 1):\n",
        "            starting_beams.append(initialize_beam(origin[0], origin[1], 'left'))\n",
        "        if (origin[1] == 0):\n",
        "            starting_beams.append(initialize_beam(origin[0], origin[1], 'down'))\n",
        "        if (origin[1] == len(lines[0]) - 1):\n",
        "            starting_beams.append(initialize_beam(origin[0], origin[1], 'up'))\n",
        "    return starting_beams\n",
        "    \n",
        "\n",
        "all_possible_origins = generate_origins()\n",
        "starting_beams = generate_starting_beams(all_possible_origins)\n",
        "\n",
        "\n",
        "results = []\n",
        "for starting_beam in starting_beams:\n",
        "    results.append(len(beam_travel([starting_beam.copy()])))\n",
        "\n",
        "max(results)"
      ]
    }
  ],
  "metadata": {
    "kernelspec": {
      "display_name": "Python 3",
      "language": "python",
      "name": "python3"
    },
    "language_info": {
      "codemirror_mode": {
        "name": "ipython",
        "version": 3
      },
      "file_extension": ".py",
      "mimetype": "text/x-python",
      "name": "python",
      "nbconvert_exporter": "python",
      "pygments_lexer": "ipython3",
      "version": "3.12.1"
    }
  },
  "nbformat": 4,
  "nbformat_minor": 2
}
