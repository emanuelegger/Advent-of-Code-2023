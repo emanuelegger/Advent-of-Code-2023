{
 "cells": [
  {
   "cell_type": "code",
   "execution_count": 17,
   "metadata": {},
   "outputs": [
    {
     "name": "stdout",
     "output_type": "stream",
     "text": [
      "21485\n"
     ]
    }
   ],
   "source": [
    "import re\n",
    "\n",
    "## Part 1\n",
    "\n",
    "class CardData:\n",
    "    def __init__(self, card_number, winning_numbers, numbers):\n",
    "        self.card_number = card_number\n",
    "        self.winning_numbers = winning_numbers\n",
    "        self.numbers = numbers\n",
    "\n",
    "file_path = './inputs/day04.txt'\n",
    "data = []\n",
    "\n",
    "with open(file_path, 'r') as file:\n",
    "    for line in file:\n",
    "        line = line.strip()\n",
    "        if 'Card' in line:\n",
    "            card_number = re.findall(r'Card\\s+(\\d+):', line)[0]\n",
    "            winning_numbers, numbers = line.split(':')[1].split('|')\n",
    "\n",
    "            winning_numbers = [int(num) for num in winning_numbers.split()]\n",
    "            numbers = [int(num) for num in numbers.split()]\n",
    "\n",
    "            data.append(CardData(card_number, winning_numbers, numbers))\n",
    "\n",
    "            winning_numbers_data = []\n",
    "\n",
    "for card_data in data:\n",
    "    winning_numbers = [num for num in card_data.winning_numbers if num in card_data.numbers]\n",
    "    winning_numbers_count = len(winning_numbers)\n",
    "    winning_numbers_data.append({'card_number': card_data.card_number, 'winning_numbers': winning_numbers, 'count': winning_numbers_count})\n",
    "\n",
    "total_sum = sum([2 ** (data['count'] - 1) if data['count'] > 0 else 0 for data in winning_numbers_data])\n",
    "\n",
    "print(total_sum)"
   ]
  },
  {
   "cell_type": "code",
   "execution_count": 18,
   "metadata": {},
   "outputs": [
    {
     "data": {
      "text/plain": [
       "11024379"
      ]
     },
     "execution_count": 18,
     "metadata": {},
     "output_type": "execute_result"
    }
   ],
   "source": [
    "## Part 2\n",
    "\n",
    "amount_dict = {}\n",
    "for entry in winning_numbers_data:\n",
    "    card_number = int(entry['card_number'])\n",
    "    amount_dict[card_number] = 1\n",
    "\n",
    "def recursion(winning_numbers_data_input, dict):     \n",
    "    cards = []\n",
    "    for entry in winning_numbers_data_input:\n",
    "        card_number = entry['card_number']\n",
    "        count = winning_numbers_data[int(card_number) - 1]['count']\n",
    "\n",
    "        if count > 0:\n",
    "            for i in range(int(card_number) + 1, int(card_number) + count + 1):\n",
    "                dict[i] = dict.get(i, 0) + 1\n",
    "                cards.append({'card_number': i})\n",
    "    \n",
    "    if (len(cards) > 0):\n",
    "        recursion(cards, dict)\n",
    "\n",
    "\n",
    "recursion(winning_numbers_data, amount_dict)\n",
    "\n",
    "\n",
    "num_of_cards = 0\n",
    "for number, amount in amount_dict.items():\n",
    "    num_of_cards += amount\n",
    "\n",
    "num_of_cards"
   ]
  }
 ],
 "metadata": {
  "kernelspec": {
   "display_name": "Python 3",
   "language": "python",
   "name": "python3"
  },
  "language_info": {
   "codemirror_mode": {
    "name": "ipython",
    "version": 3
   },
   "file_extension": ".py",
   "mimetype": "text/x-python",
   "name": "python",
   "nbconvert_exporter": "python",
   "pygments_lexer": "ipython3",
   "version": "3.9.6"
  }
 },
 "nbformat": 4,
 "nbformat_minor": 2
}
