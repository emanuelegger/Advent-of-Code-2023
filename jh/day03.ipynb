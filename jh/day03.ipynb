{
 "cells": [
  {
   "cell_type": "code",
   "execution_count": 62,
   "metadata": {},
   "outputs": [
    {
     "name": "stdout",
     "output_type": "stream",
     "text": [
      "540131\n"
     ]
    }
   ],
   "source": [
    "with open('./inputs/day03.txt', 'r') as file:\n",
    "    array = [list(line.strip()) for line in file.readlines()]\n",
    "\n",
    "\n",
    "# Part 1\n",
    "\n",
    "digit_map = {}\n",
    "for i, row in enumerate(array):\n",
    "    current_number = ''\n",
    "    start_index = 0\n",
    "    for j, digit in enumerate(row):\n",
    "        if digit.isdigit():\n",
    "            if current_number == '':\n",
    "                start_index = j\n",
    "            current_number += digit\n",
    "        else:\n",
    "            if current_number != '':\n",
    "                number = int(current_number)\n",
    "                if number not in digit_map:\n",
    "                    digit_map[number] = [[(i, k) for k in range(start_index, j)]]\n",
    "                else:\n",
    "                    digit_map[number].append([(i, k) for k in range(start_index, j)])\n",
    "                current_number = ''\n",
    "    if current_number != '':\n",
    "        number = int(current_number)\n",
    "        if number not in digit_map:\n",
    "            digit_map[number] = [[(i, k) for k in range(start_index, j + 1)]]\n",
    "        else:\n",
    "            digit_map[number].append([(i, k) for k in range(start_index, j + 1)])\n",
    "\n",
    "symbol_indices = []\n",
    "for i, row in enumerate(array):\n",
    "    for j, symbol in enumerate(row):\n",
    "        if symbol != '.' and not symbol.isdigit():\n",
    "            symbol_indices.append((i, j))\n",
    "\n",
    "num_rows = len(array)\n",
    "num_cols = len(array[0]) if array else 0\n",
    "\n",
    "adjacent_numbers = []\n",
    "for number, indices_list in digit_map.items():\n",
    "    for indices in indices_list:\n",
    "        number_added = False\n",
    "        for index in indices:\n",
    "            for symbol_index in symbol_indices:\n",
    "                if (0 <= index[0] < num_rows and 0 <= index[1] < num_cols and\n",
    "                    ((abs(index[0] - symbol_index[0]) == 1 and abs(index[1] - symbol_index[1]) == 1) or\n",
    "                     (index[0] == symbol_index[0] and abs(index[1] - symbol_index[1]) == 1) or\n",
    "                     (index[1] == symbol_index[1] and abs(index[0] - symbol_index[0]) == 1))):\n",
    "                    adjacent_numbers.append(number)\n",
    "                    number_added = True\n",
    "                    break\n",
    "            if number_added:\n",
    "                break\n",
    "\n",
    "\n",
    "\n",
    "print(sum(adjacent_numbers))\n",
    "\n"
   ]
  },
  {
   "cell_type": "code",
   "execution_count": 63,
   "metadata": {},
   "outputs": [
    {
     "name": "stdout",
     "output_type": "stream",
     "text": [
      "86879020\n"
     ]
    }
   ],
   "source": [
    "# Part 2\n",
    "\n",
    "star_indices = []\n",
    "for i, row in enumerate(array):\n",
    "    for j, symbol in enumerate(row):\n",
    "        if symbol == '*':\n",
    "            star_indices.append((i, j))\n",
    "\n",
    "number_tuples = []\n",
    "\n",
    "for star_index in star_indices:\n",
    "    number_found = []\n",
    "    for num, num_indices in digit_map.items():\n",
    "        for indices in num_indices:\n",
    "            for index in indices:\n",
    "                if (0 <= index[0] < num_rows and 0 <= index[1] < num_cols and\n",
    "                        ((abs(index[0] - star_index[0]) == 1 and abs(index[1] - star_index[1]) == 1) or\n",
    "                        (index[0] == star_index[0] and abs(index[1] - star_index[1]) == 1) or\n",
    "                        (index[1] == star_index[1] and abs(index[0] - star_index[0]) == 1))):\n",
    "                        number_found.append(num)\n",
    "                        break\n",
    "    if len(number_found) == 2:\n",
    "        number_tuples.append((star_index, number_found))\n",
    "\n",
    "product_sum = 0\n",
    "for _, number_tuple in number_tuples:\n",
    "    product_sum += number_tuple[0] * number_tuple[1]\n",
    "\n",
    "print(product_sum)"
   ]
  }
 ],
 "metadata": {
  "kernelspec": {
   "display_name": ".venv",
   "language": "python",
   "name": "python3"
  },
  "language_info": {
   "codemirror_mode": {
    "name": "ipython",
    "version": 3
   },
   "file_extension": ".py",
   "mimetype": "text/x-python",
   "name": "python",
   "nbconvert_exporter": "python",
   "pygments_lexer": "ipython3",
   "version": "3.10.6"
  }
 },
 "nbformat": 4,
 "nbformat_minor": 2
}
