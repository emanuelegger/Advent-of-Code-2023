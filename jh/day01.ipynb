{
 "cells": [
  {
   "cell_type": "code",
   "execution_count": 1,
   "metadata": {},
   "outputs": [
    {
     "data": {
      "text/html": [
       "<div>\n",
       "<style scoped>\n",
       "    .dataframe tbody tr th:only-of-type {\n",
       "        vertical-align: middle;\n",
       "    }\n",
       "\n",
       "    .dataframe tbody tr th {\n",
       "        vertical-align: top;\n",
       "    }\n",
       "\n",
       "    .dataframe thead th {\n",
       "        text-align: right;\n",
       "    }\n",
       "</style>\n",
       "<table border=\"1\" class=\"dataframe\">\n",
       "  <thead>\n",
       "    <tr style=\"text-align: right;\">\n",
       "      <th></th>\n",
       "      <th>inputs</th>\n",
       "    </tr>\n",
       "  </thead>\n",
       "  <tbody>\n",
       "    <tr>\n",
       "      <th>0</th>\n",
       "      <td>five3onelxjninenine45</td>\n",
       "    </tr>\n",
       "    <tr>\n",
       "      <th>1</th>\n",
       "      <td>six9mnfjmtsf2kfmznkxntninesevenrpmfjfpgsk</td>\n",
       "    </tr>\n",
       "    <tr>\n",
       "      <th>2</th>\n",
       "      <td>9vkrmbpnine5two5cbktwo6</td>\n",
       "    </tr>\n",
       "    <tr>\n",
       "      <th>3</th>\n",
       "      <td>one1bdr6</td>\n",
       "    </tr>\n",
       "    <tr>\n",
       "      <th>4</th>\n",
       "      <td>ksvctznmffourtwovbb9four5five</td>\n",
       "    </tr>\n",
       "  </tbody>\n",
       "</table>\n",
       "</div>"
      ],
      "text/plain": [
       "                                      inputs\n",
       "0                      five3onelxjninenine45\n",
       "1  six9mnfjmtsf2kfmznkxntninesevenrpmfjfpgsk\n",
       "2                    9vkrmbpnine5two5cbktwo6\n",
       "3                                   one1bdr6\n",
       "4              ksvctznmffourtwovbb9four5five"
      ]
     },
     "execution_count": 1,
     "metadata": {},
     "output_type": "execute_result"
    }
   ],
   "source": [
    "# %pip install pandas\n",
    "\n",
    "import pandas as pd\n",
    "import re\n",
    "\n",
    "df = pd.read_csv('./inputs/day01.txt', header=None)\n",
    "\n",
    "df.columns = ['inputs']\n",
    "df.head()"
   ]
  },
  {
   "cell_type": "code",
   "execution_count": 2,
   "metadata": {},
   "outputs": [
    {
     "name": "stdout",
     "output_type": "stream",
     "text": [
      "55123\n"
     ]
    }
   ],
   "source": [
    "# Part 1\n",
    "def get_number(x: str) -> str:\n",
    "    numbers = re.findall('\\d{1}', x)\n",
    "    first = numbers[0]\n",
    "    last = numbers.pop()\n",
    "\n",
    "    return first + last\n",
    "\n",
    "res = df['inputs'].apply(get_number).apply(int).sum()\n",
    "\n",
    "print(res)"
   ]
  },
  {
   "cell_type": "code",
   "execution_count": 3,
   "metadata": {},
   "outputs": [
    {
     "name": "stdout",
     "output_type": "stream",
     "text": [
      "55260\n"
     ]
    }
   ],
   "source": [
    "# Part 2\n",
    "\n",
    "def spelled_to_strint(x: str) -> str:\n",
    "    if (x.lower() == 'one'):\n",
    "        return '1'\n",
    "    elif (x.lower() == 'two'):\n",
    "        return '2'\n",
    "    elif (x.lower() == 'three'):   \n",
    "        return '3'\n",
    "    elif (x.lower() == 'four'):\n",
    "        return '4'\n",
    "    elif (x.lower() == 'five'):\n",
    "        return '5'\n",
    "    elif (x.lower() == 'six'):\n",
    "        return '6'\n",
    "    elif (x.lower() == 'seven'):\n",
    "        return '7'\n",
    "    elif (x.lower() == 'eight'):\n",
    "        return '8'\n",
    "    elif (x.lower() == 'nine'):\n",
    "        return '9'\n",
    "    else:\n",
    "        return x\n",
    "\n",
    "def get_number(x: str) -> str:\n",
    "    numbers = re.findall('(?=(\\d|one|two|three|four|five|six|seven|eight|nine))', x, flags=re.IGNORECASE)\n",
    "\n",
    "    first = numbers[0]\n",
    "    last = numbers.pop()\n",
    "\n",
    "    return spelled_to_strint(first) + spelled_to_strint(last)\n",
    "\n",
    "res = df['inputs'].apply(get_number).apply(int).sum()\n",
    "\n",
    "print(res) \n"
   ]
  }
 ],
 "metadata": {
  "kernelspec": {
   "display_name": ".venv",
   "language": "python",
   "name": "python3"
  },
  "language_info": {
   "codemirror_mode": {
    "name": "ipython",
    "version": 3
   },
   "file_extension": ".py",
   "mimetype": "text/x-python",
   "name": "python",
   "nbconvert_exporter": "python",
   "pygments_lexer": "ipython3",
   "version": "3.9.6"
  }
 },
 "nbformat": 4,
 "nbformat_minor": 2
}
