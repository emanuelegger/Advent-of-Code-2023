{
 "cells": [
  {
   "cell_type": "markdown",
   "metadata": {},
   "source": [
    "### Part 1"
   ]
  },
  {
   "cell_type": "code",
   "execution_count": 50,
   "metadata": {},
   "outputs": [
    {
     "name": "stdout",
     "output_type": "stream",
     "text": [
      "[3, 4, 10]\n",
      "4\n",
      "[2, 3, 4, 5, 6]\n",
      "6\n",
      "[6]\n",
      "6\n",
      "[2, 3, 4, 5, 6, 7]\n",
      "7\n",
      "[2, 3, 4]\n",
      "4\n",
      "[2, 9, 10, 11, 12]\n",
      "9\n",
      "[3, 4, 10]\n",
      "4\n",
      "[2, 3, 4, 5, 6, 7, 8, 9, 10]\n",
      "6\n",
      "[2]\n",
      "2\n",
      "[2, 3, 4]\n",
      "4\n",
      "[6]\n",
      "6\n"
     ]
    },
    {
     "data": {
      "text/plain": [
       "0"
      ]
     },
     "execution_count": 50,
     "metadata": {},
     "output_type": "execute_result"
    }
   ],
   "source": [
    "file_path = './inputs/day13.txt'\n",
    "lines = [line.strip() for line in open(file_path, \"r\").readlines()]\n",
    "\n",
    "groups = []\n",
    "current_group = []\n",
    "for line in lines:\n",
    "    if line == \"\":\n",
    "        groups.append(current_group)\n",
    "        current_group = []\n",
    "    else:\n",
    "        current_group.append(list(line))  # Splitting the line into a single character array\n",
    "if current_group:\n",
    "    groups.append(current_group)\n",
    "\n",
    "\n",
    "def check_vertical_reflection(arr, col):\n",
    "    num_rows = len(arr)\n",
    "    num_cols = len(arr[0])\n",
    "\n",
    "    distance_left = col\n",
    "    distance_right = num_cols - col - 1\n",
    "\n",
    "    smaller_distance = min(distance_left, distance_right)\n",
    "\n",
    "    if (smaller_distance == 1 or smaller_distance == 0 or smaller_distance == num_cols):\n",
    "        return False\n",
    "\n",
    "    for row in range(num_rows):\n",
    "        right = arr[row][col + 1:col + smaller_distance + 1]\n",
    "        left = arr[row][::-1][col:col + smaller_distance]\n",
    "        if right != left or right == [] or left == []:\n",
    "            return False\n",
    "        \n",
    "    return True\n",
    "\n",
    "def check_vertical_axis(arr):\n",
    "    num_cols = len(arr[0])\n",
    "    possible_cols = []\n",
    "\n",
    "    for col in range(num_cols):        \n",
    "        if check_vertical_reflection(arr, col):\n",
    "            possible_cols.append((col))\n",
    "                \n",
    "    if (possible_cols == []):\n",
    "        return 0\n",
    "    \n",
    "    print(possible_cols)\n",
    "    x = min(possible_cols, key=lambda x: abs(x - num_cols/2))\n",
    "    print(x)\n",
    "    return x\n",
    "\n",
    "\n",
    "def swap_cols_rows(arr):\n",
    "    return list(zip(*arr))\n",
    "\n",
    "vertical_matches = []\n",
    "horizontal_matches = []\n",
    "\n",
    "for group in groups:\n",
    "    v_match = check_vertical_axis(group)\n",
    "\n",
    "    if (v_match != 0):\n",
    "        vertical_matches.append(v_match + 1)\n",
    "    else:\n",
    "        h_match = check_vertical_axis(swap_cols_rows(group))\n",
    "        horizontal_matches.append(h_match + 1)\n",
    "    \n",
    "\n",
    "sum(vertical_matches) + sum(horizontal_matches) * 100\n",
    "\n",
    "check_vertical_axis(groups[0])\n",
    "check_vertical_axis(swap_cols_rows(groups[0]))\n"
   ]
  },
  {
   "cell_type": "code",
   "execution_count": 34,
   "metadata": {},
   "outputs": [
    {
     "data": {
      "text/plain": [
       "[('#', '#', '.', '#', '#', '.', '#'),\n",
       " ('.', '.', '.', '#', '#', '.', '.'),\n",
       " ('.', '.', '#', '#', '#', '#', '.'),\n",
       " ('.', '.', '#', '#', '#', '#', '.'),\n",
       " ('#', '.', '.', '#', '#', '.', '.'),\n",
       " ('#', '#', '.', '.', '.', '.', '#'),\n",
       " ('.', '.', '#', '#', '#', '#', '.'),\n",
       " ('.', '.', '#', '#', '#', '#', '.'),\n",
       " ('#', '#', '#', '.', '.', '#', '#')]"
      ]
     },
     "execution_count": 34,
     "metadata": {},
     "output_type": "execute_result"
    }
   ],
   "source": [
    "swap_cols_rows(groups[1])\n",
    "\n",
    "116426\n",
    "13226"
   ]
  }
 ],
 "metadata": {
  "kernelspec": {
   "display_name": "Python 3",
   "language": "python",
   "name": "python3"
  },
  "language_info": {
   "codemirror_mode": {
    "name": "ipython",
    "version": 3
   },
   "file_extension": ".py",
   "mimetype": "text/x-python",
   "name": "python",
   "nbconvert_exporter": "python",
   "pygments_lexer": "ipython3",
   "version": "3.9.6"
  }
 },
 "nbformat": 4,
 "nbformat_minor": 2
}
