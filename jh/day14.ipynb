{
 "cells": [
  {
   "cell_type": "markdown",
   "metadata": {},
   "source": [
    "### Part 1"
   ]
  },
  {
   "cell_type": "code",
   "execution_count": 111,
   "metadata": {},
   "outputs": [
    {
     "data": {
      "text/plain": [
       "105208"
      ]
     },
     "execution_count": 111,
     "metadata": {},
     "output_type": "execute_result"
    }
   ],
   "source": [
    "file_path = './inputs/day14.txt'\n",
    "lines = [list(line.strip()) for line in open(file_path, \"r\").readlines()]\n",
    "\n",
    "def move_up(lines):\n",
    "    for col in range(len(lines[0])):\n",
    "        for row in range(1, len(lines)):\n",
    "            if lines[row][col] == 'O':\n",
    "                while row > 0 and (lines[row-1][col] == '.' or lines[row-1][col] == 'O'):\n",
    "                    lines[row][col], lines[row-1][col] = lines[row-1][col], lines[row][col]\n",
    "                    row -= 1\n",
    "\n",
    "move_up(lines)\n",
    "\n",
    "sum_of_O = 0\n",
    "max_rows = len(lines)\n",
    "\n",
    "for row in range(len(lines)):\n",
    "    for col in range(len(lines[row])):\n",
    "        if lines[row][col] == 'O':\n",
    "            sum_of_O += max_rows - row\n",
    "\n",
    "sum_of_O\n",
    "\n"
   ]
  },
  {
   "cell_type": "markdown",
   "metadata": {},
   "source": [
    "### Part 2"
   ]
  },
  {
   "cell_type": "code",
   "execution_count": 112,
   "metadata": {},
   "outputs": [
    {
     "data": {
      "text/plain": [
       "102943"
      ]
     },
     "execution_count": 112,
     "metadata": {},
     "output_type": "execute_result"
    }
   ],
   "source": [
    "file_path = './inputs/day14.txt'\n",
    "lines = [list(line.strip()) for line in open(file_path, \"r\").readlines()]\n",
    "\n",
    "def move_up(lines):\n",
    "    for col in range(len(lines[0])):\n",
    "        for row in range(1, len(lines)):\n",
    "            if lines[row][col] == 'O':\n",
    "                while row > 0 and (lines[row-1][col] == '.' or lines[row-1][col] == 'O'):\n",
    "                    lines[row][col], lines[row-1][col] = lines[row-1][col], lines[row][col]\n",
    "                    row -= 1\n",
    "\n",
    "def move_left(lines):\n",
    "    for row in range(len(lines)):\n",
    "        for col in range(1, len(lines[row])):\n",
    "            if lines[row][col] == 'O':\n",
    "                while col > 0 and (lines[row][col-1] == '.' or lines[row][col-1] == 'O'):\n",
    "                    lines[row][col], lines[row][col-1] = lines[row][col-1], lines[row][col]\n",
    "                    col -= 1\n",
    "\n",
    "def move_down(lines):\n",
    "    for col in range(len(lines[0])):\n",
    "        for row in range(len(lines)-2, -1, -1):\n",
    "            if lines[row][col] == 'O':\n",
    "                while row < len(lines)-1 and (lines[row+1][col] == '.' or lines[row+1][col] == 'O'):\n",
    "                    lines[row][col], lines[row+1][col] = lines[row+1][col], lines[row][col]\n",
    "                    row += 1\n",
    "\n",
    "def move_right(lines):\n",
    "    for row in range(len(lines)):\n",
    "        for col in range(len(lines[row])-2, -1, -1):\n",
    "            if lines[row][col] == 'O':\n",
    "                while col < len(lines[row])-1 and (lines[row][col+1] == '.' or lines[row][col+1] == 'O'):\n",
    "                    lines[row][col], lines[row][col+1] = lines[row][col+1], lines[row][col]\n",
    "                    col += 1\n",
    "\n",
    "def cal_sum(lines):\n",
    "    sum_of_O = 0\n",
    "    max_rows = len(lines)\n",
    "\n",
    "    for row in range(len(lines)):\n",
    "        for col in range(len(lines[row])):\n",
    "            if lines[row][col] == 'O':\n",
    "                sum_of_O += max_rows - row\n",
    "    return sum_of_O\n",
    "\n",
    "import hashlib\n",
    "from copy import deepcopy\n",
    "\n",
    "def calculate_hash(arr):\n",
    "    arr_str = str(arr)\n",
    "    hash_object = hashlib.md5(arr_str.encode())\n",
    "    return hash_object.hexdigest()\n",
    "\n",
    "def find_all(array, value):\n",
    "    indexes = []\n",
    "    for i in range(len(array)):\n",
    "        if array[i] == value:\n",
    "            indexes.append(i)\n",
    "    return indexes\n",
    "\n",
    "\n",
    "cache = {}\n",
    "line_cache = {}\n",
    "sums = []\n",
    "sum = None\n",
    "\n",
    "iterations = 1000000000\n",
    "circle = (False, -1, -1)\n",
    "\n",
    "for i in range(iterations):    \n",
    "    hash = calculate_hash(lines)\n",
    "\n",
    "    if hash not in cache:\n",
    "        move_up(lines)\n",
    "        move_left(lines)\n",
    "        move_down(lines)\n",
    "        move_right(lines)\n",
    "\n",
    "        sum = cal_sum(lines);\n",
    "        cache.update({hash: sum})\n",
    "        line_cache.update({hash: deepcopy(lines)})\n",
    "        sums.append(sum)\n",
    "    \n",
    "    elif circle[0] == False:\n",
    "        x = find_all(sums, cache[hash])\n",
    "        x[-2:][0]\n",
    "\n",
    "        # first_index = sums.index(cache[hash])\n",
    "        circle = (True, x[-2:][0], i)\n",
    "\n",
    "        lines = deepcopy(line_cache[hash])\n",
    "        sum = cache[hash]\n",
    "\n",
    "    else:\n",
    "        pos = (iterations - circle[1]) % (circle[2] - circle[1])\n",
    "        sum = sums[circle[1] + pos - 1]\n",
    "        break\n",
    "\n",
    "sum"
   ]
  }
 ],
 "metadata": {
  "kernelspec": {
   "display_name": "Python 3",
   "language": "python",
   "name": "python3"
  },
  "language_info": {
   "codemirror_mode": {
    "name": "ipython",
    "version": 3
   },
   "file_extension": ".py",
   "mimetype": "text/x-python",
   "name": "python",
   "nbconvert_exporter": "python",
   "pygments_lexer": "ipython3",
   "version": "3.9.6"
  }
 },
 "nbformat": 4,
 "nbformat_minor": 2
}
