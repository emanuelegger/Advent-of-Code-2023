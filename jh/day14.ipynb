{
 "cells": [
  {
   "cell_type": "code",
   "execution_count": 6,
   "metadata": {},
   "outputs": [
    {
     "data": {
      "text/plain": [
       "105208"
      ]
     },
     "execution_count": 6,
     "metadata": {},
     "output_type": "execute_result"
    }
   ],
   "source": [
    "file_path = './inputs/day14.txt'\n",
    "lines = [list(line.strip()) for line in open(file_path, \"r\").readlines()]\n",
    "\n",
    "def move_up(lines):\n",
    "    for col in range(len(lines[0])):\n",
    "        for row in range(1, len(lines)):\n",
    "            if lines[row][col] == 'O':\n",
    "                while row > 0 and (lines[row-1][col] == '.' or lines[row-1][col] == 'O'):\n",
    "                    lines[row][col], lines[row-1][col] = lines[row-1][col], lines[row][col]\n",
    "                    row -= 1\n",
    "\n",
    "move_up(lines)\n",
    "\n",
    "sum_of_O = 0\n",
    "max_rows = len(lines)\n",
    "\n",
    "for row in range(len(lines)):\n",
    "    for col in range(len(lines[row])):\n",
    "        if lines[row][col] == 'O':\n",
    "            sum_of_O += max_rows - row\n",
    "\n",
    "sum_of_O\n",
    "\n"
   ]
  },
  {
   "cell_type": "code",
   "execution_count": 50,
   "metadata": {},
   "outputs": [
    {
     "data": {
      "text/plain": [
       "102943"
      ]
     },
     "execution_count": 50,
     "metadata": {},
     "output_type": "execute_result"
    }
   ],
   "source": [
    "file_path = './inputs/day14.txt'\n",
    "lines = [list(line.strip()) for line in open(file_path, \"r\").readlines()]\n",
    "\n",
    "def move_up(lines):\n",
    "    for col in range(len(lines[0])):\n",
    "        for row in range(1, len(lines)):\n",
    "            if lines[row][col] == 'O':\n",
    "                while row > 0 and (lines[row-1][col] == '.' or lines[row-1][col] == 'O'):\n",
    "                    lines[row][col], lines[row-1][col] = lines[row-1][col], lines[row][col]\n",
    "                    row -= 1\n",
    "\n",
    "def move_left(lines):\n",
    "    for row in range(len(lines)):\n",
    "        for col in range(1, len(lines[row])):\n",
    "            if lines[row][col] == 'O':\n",
    "                while col > 0 and (lines[row][col-1] == '.' or lines[row][col-1] == 'O'):\n",
    "                    lines[row][col], lines[row][col-1] = lines[row][col-1], lines[row][col]\n",
    "                    col -= 1\n",
    "\n",
    "def move_down(lines):\n",
    "    for col in range(len(lines[0])):\n",
    "        for row in range(len(lines)-2, -1, -1):\n",
    "            if lines[row][col] == 'O':\n",
    "                while row < len(lines)-1 and (lines[row+1][col] == '.' or lines[row+1][col] == 'O'):\n",
    "                    lines[row][col], lines[row+1][col] = lines[row+1][col], lines[row][col]\n",
    "                    row += 1\n",
    "\n",
    "def move_right(lines):\n",
    "    for row in range(len(lines)):\n",
    "        for col in range(len(lines[row])-2, -1, -1):\n",
    "            if lines[row][col] == 'O':\n",
    "                while col < len(lines[row])-1 and (lines[row][col+1] == '.' or lines[row][col+1] == 'O'):\n",
    "                    lines[row][col], lines[row][col+1] = lines[row][col+1], lines[row][col]\n",
    "                    col += 1\n",
    "\n",
    "\n",
    "\n",
    "# use cache then it works with 1000000000\n",
    "for i in range(1000):\n",
    "    move_up(lines)\n",
    "    move_left(lines)\n",
    "    move_down(lines)\n",
    "    move_right(lines)\n",
    "\n",
    "\n",
    "\n",
    "sum_of_O = 0\n",
    "max_rows = len(lines)\n",
    "\n",
    "for row in range(len(lines)):\n",
    "    for col in range(len(lines[row])):\n",
    "        if lines[row][col] == 'O':\n",
    "            sum_of_O += max_rows - row\n",
    "\n",
    "sum_of_O\n",
    "\n",
    "# 102943"
   ]
  }
 ],
 "metadata": {
  "kernelspec": {
   "display_name": "Python 3",
   "language": "python",
   "name": "python3"
  },
  "language_info": {
   "codemirror_mode": {
    "name": "ipython",
    "version": 3
   },
   "file_extension": ".py",
   "mimetype": "text/x-python",
   "name": "python",
   "nbconvert_exporter": "python",
   "pygments_lexer": "ipython3",
   "version": "3.9.6"
  }
 },
 "nbformat": 4,
 "nbformat_minor": 2
}
