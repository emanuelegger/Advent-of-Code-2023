{
 "cells": [
  {
   "cell_type": "code",
   "execution_count": 36,
   "metadata": {},
   "outputs": [
    {
     "name": "stdout",
     "output_type": "stream",
     "text": [
      "('ZZZ', 12169)\n"
     ]
    }
   ],
   "source": [
    "from functools import reduce\n",
    "from util import read_file_into_lines\n",
    "\n",
    "file_path = './inputs/day08.txt'\n",
    "\n",
    "lines = read_file_into_lines(file_path)\n",
    "\n",
    "instructions = []\n",
    "\n",
    "for character in lines[0].strip():\n",
    "    instructions.append(character)\n",
    "\n",
    "def read_line_into_tuple(line):\n",
    "    instruction, value = line.split('=')\n",
    "    tuple = value.replace('(', '').replace(')', '').replace(' ', '').strip().split(',')\n",
    "\n",
    "    return (instruction.strip(), tuple)\n",
    "\n",
    "instructions_dict = {read_line_into_tuple(line)[0]: read_line_into_tuple(line)[1] for index, line in enumerate(lines[2:], start=2)}\n",
    "\n",
    "def map_instruction(position, instruction):\n",
    "    current_options = instructions_dict[position]\n",
    "    \n",
    "    return current_options[1] if instruction == 'R' else current_options[0]\n",
    "\n",
    "\n",
    "def travel(position = 'AAA', count = 0):\n",
    "    for instruction in instructions:\n",
    "        if (position == 'ZZZ'):\n",
    "            return (position, count)\n",
    "        \n",
    "        position = map_instruction(position, instruction)\n",
    "        count += 1\n",
    "    return travel(position, count)\n",
    "\n",
    "print(travel())\n",
    "\n"
   ]
  },
  {
   "cell_type": "code",
   "execution_count": 37,
   "metadata": {},
   "outputs": [
    {
     "name": "stdout",
     "output_type": "stream",
     "text": [
      "HVA ('RFZ', 14999)\n",
      "HHA ('TNZ', 20093)\n",
      "BVA ('MLZ', 17263)\n",
      "RSA ('KPZ', 16697)\n",
      "AAA ('ZZZ', 12169)\n",
      "NPA ('BXZ', 20659)\n",
      "12030780859469\n"
     ]
    }
   ],
   "source": [
    "import math\n",
    "### Part 2\n",
    "\n",
    "starting_positions = {}\n",
    "\n",
    "for position in instructions_dict:\n",
    "    if (position.endswith('A')):\n",
    "        starting_positions[position] = position\n",
    "        \n",
    "\n",
    "finished = False\n",
    "result = (starting_positions, 0)\n",
    "\n",
    "def travel(position = 'AAA', count = 0):\n",
    "    for instruction in instructions:\n",
    "        if (position.endswith('Z')):\n",
    "            return (position, count)\n",
    "        \n",
    "        position = map_instruction(position, instruction)\n",
    "        count += 1\n",
    "    return travel(position, count)\n",
    "\n",
    "counts = []\n",
    "\n",
    "for starting_position in starting_positions.keys():\n",
    "    result = travel(starting_position)\n",
    "    print(starting_position, result)\n",
    "    counts.append(result[1])\n",
    "\n",
    "\n",
    "lcm = counts[0]\n",
    "for count in counts[1:]:\n",
    "    lcm = lcm * count // math.gcd(lcm, count)\n",
    "\n",
    "print(lcm)\n",
    "\n"
   ]
  }
 ],
 "metadata": {
  "kernelspec": {
   "display_name": "Python 3",
   "language": "python",
   "name": "python3"
  },
  "language_info": {
   "codemirror_mode": {
    "name": "ipython",
    "version": 3
   },
   "file_extension": ".py",
   "mimetype": "text/x-python",
   "name": "python",
   "nbconvert_exporter": "python",
   "pygments_lexer": "ipython3",
   "version": "3.9.6"
  }
 },
 "nbformat": 4,
 "nbformat_minor": 2
}
